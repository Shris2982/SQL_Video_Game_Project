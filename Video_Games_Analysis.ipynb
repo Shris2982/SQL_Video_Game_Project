{
  "cells": [
    {
      "cell_type": "markdown",
      "metadata": {
        "dc": {
          "key": "7"
        },
        "deletable": false,
        "editable": false,
        "run_control": {
          "frozen": true
        },
        "tags": [
          "context"
        ],
        "id": "1FXYua3-3e_l"
      },
      "source": [
        "## 1. The ten best-selling video games\n",
        "<p><img src=\"https://assets.datacamp.com/production/project_1413/img/video_game.jpg\" alt=\"A video game player choosing a game to play on Nintendo Switch.\" width=\"400\"></p>\n",
        "</p>\n",
        "<p>Video games are big business: the global gaming market is projected to be worth more than $300 billion by 2027 according to <a href=\"https://www.mordorintelligence.com/industry-reports/global-gaming-market\">Mordor Intelligence</a>. With so much money at stake, the major game publishers are hugely incentivized to create the next big hit. But are games getting better, or has the golden age of video games already passed?</p>\n",
        "<p>In this project, we'll explore the top 400 best-selling video games created between 1977 and 2020. We'll compare a dataset on game sales with critic and user reviews to determine whether or not video games have improved as the gaming market has grown.</p>\n",
        "<p>Our database contains two tables. </p>\n",
        "<h3 id=\"game_sales\"><code>game_sales</code></h3>\n",
        "<table>\n",
        "<thead>\n",
        "<tr>\n",
        "<th style=\"text-align:left;\">column</th>\n",
        "<th>type</th>\n",
        "<th>meaning</th>\n",
        "</tr>\n",
        "</thead>\n",
        "<tbody>\n",
        "<tr>\n",
        "<td style=\"text-align:left;\"><code>game</code></td>\n",
        "<td>varchar</td>\n",
        "<td>Name of the video game</td>\n",
        "</tr>\n",
        "<tr>\n",
        "<td style=\"text-align:left;\"><code>platform</code></td>\n",
        "<td>varchar</td>\n",
        "<td>Gaming platform</td>\n",
        "</tr>\n",
        "<tr>\n",
        "<td style=\"text-align:left;\"><code>publisher</code></td>\n",
        "<td>varchar</td>\n",
        "<td>Game publisher</td>\n",
        "</tr>\n",
        "<tr>\n",
        "<td style=\"text-align:left;\"><code>developer</code></td>\n",
        "<td>varchar</td>\n",
        "<td>Game developer</td>\n",
        "</tr>\n",
        "<tr>\n",
        "<td style=\"text-align:left;\"><code>games_sold</code></td>\n",
        "<td>float</td>\n",
        "<td>Number of copies sold (millions)</td>\n",
        "</tr>\n",
        "<tr>\n",
        "<td style=\"text-align:left;\"><code>year</code></td>\n",
        "<td>int</td>\n",
        "<td>Release year</td>\n",
        "</tr>\n",
        "</tbody>\n",
        "</table>\n",
        "<h3 id=\"reviews\"><code>reviews</code></h3>\n",
        "<table>\n",
        "<thead>\n",
        "<tr>\n",
        "<th style=\"text-align:left;\">column</th>\n",
        "<th>type</th>\n",
        "<th>meaning</th>\n",
        "</tr>\n",
        "</thead>\n",
        "<tbody>\n",
        "<tr>\n",
        "<td style=\"text-align:left;\"><code>game</code></td>\n",
        "<td>varchar</td>\n",
        "<td>Name of the video game</td>\n",
        "</tr>\n",
        "<tr>\n",
        "<td style=\"text-align:left;\"><code>critic_score</code></td>\n",
        "<td>float</td>\n",
        "<td>Critic score according to Metacritic</td>\n",
        "</tr>\n",
        "<tr>\n",
        "<td style=\"text-align:left;\"><code>user_score</code></td>\n",
        "<td>float</td>\n",
        "<td>User score according to Metacritic</td>\n",
        "</tr>\n",
        "</tbody>\n",
        "</table>\n",
        "<p>Let's begin by looking at some of the top selling video games of all time!</p>"
      ]
    },
    {
      "cell_type": "code",
      "execution_count": null,
      "metadata": {
        "dc": {
          "key": "7"
        },
        "tags": [
          "sample_code"
        ],
        "id": "mY5TAvyE3e_p",
        "outputId": "ebeae2e8-0909-4397-beb6-25b85fad1fda"
      },
      "outputs": [
        {
          "name": "stdout",
          "output_type": "stream",
          "text": [
            "10 rows affected.\n"
          ]
        },
        {
          "data": {
            "text/html": [
              "<table>\n",
              "    <tr>\n",
              "        <th>game</th>\n",
              "        <th>platform</th>\n",
              "        <th>publisher</th>\n",
              "        <th>developer</th>\n",
              "        <th>games_sold</th>\n",
              "        <th>year</th>\n",
              "    </tr>\n",
              "    <tr>\n",
              "        <td>Wii Sports for Wii</td>\n",
              "        <td>Wii</td>\n",
              "        <td>Nintendo</td>\n",
              "        <td>Nintendo EAD</td>\n",
              "        <td>82.90</td>\n",
              "        <td>2006</td>\n",
              "    </tr>\n",
              "    <tr>\n",
              "        <td>Super Mario Bros. for NES</td>\n",
              "        <td>NES</td>\n",
              "        <td>Nintendo</td>\n",
              "        <td>Nintendo EAD</td>\n",
              "        <td>40.24</td>\n",
              "        <td>1985</td>\n",
              "    </tr>\n",
              "    <tr>\n",
              "        <td>Counter-Strike: Global Offensive for PC</td>\n",
              "        <td>PC</td>\n",
              "        <td>Valve</td>\n",
              "        <td>Valve Corporation</td>\n",
              "        <td>40.00</td>\n",
              "        <td>2012</td>\n",
              "    </tr>\n",
              "    <tr>\n",
              "        <td>Mario Kart Wii for Wii</td>\n",
              "        <td>Wii</td>\n",
              "        <td>Nintendo</td>\n",
              "        <td>Nintendo EAD</td>\n",
              "        <td>37.32</td>\n",
              "        <td>2008</td>\n",
              "    </tr>\n",
              "    <tr>\n",
              "        <td>PLAYERUNKNOWN&#x27;S BATTLEGROUNDS for PC</td>\n",
              "        <td>PC</td>\n",
              "        <td>PUBG Corporation</td>\n",
              "        <td>PUBG Corporation</td>\n",
              "        <td>36.60</td>\n",
              "        <td>2017</td>\n",
              "    </tr>\n",
              "    <tr>\n",
              "        <td>Minecraft for PC</td>\n",
              "        <td>PC</td>\n",
              "        <td>Mojang</td>\n",
              "        <td>Mojang AB</td>\n",
              "        <td>33.15</td>\n",
              "        <td>2010</td>\n",
              "    </tr>\n",
              "    <tr>\n",
              "        <td>Wii Sports Resort for Wii</td>\n",
              "        <td>Wii</td>\n",
              "        <td>Nintendo</td>\n",
              "        <td>Nintendo EAD</td>\n",
              "        <td>33.13</td>\n",
              "        <td>2009</td>\n",
              "    </tr>\n",
              "    <tr>\n",
              "        <td>Pokemon Red / Green / Blue Version for GB</td>\n",
              "        <td>GB</td>\n",
              "        <td>Nintendo</td>\n",
              "        <td>Game Freak</td>\n",
              "        <td>31.38</td>\n",
              "        <td>1998</td>\n",
              "    </tr>\n",
              "    <tr>\n",
              "        <td>New Super Mario Bros. for DS</td>\n",
              "        <td>DS</td>\n",
              "        <td>Nintendo</td>\n",
              "        <td>Nintendo EAD</td>\n",
              "        <td>30.80</td>\n",
              "        <td>2006</td>\n",
              "    </tr>\n",
              "    <tr>\n",
              "        <td>New Super Mario Bros. Wii for Wii</td>\n",
              "        <td>Wii</td>\n",
              "        <td>Nintendo</td>\n",
              "        <td>Nintendo EAD</td>\n",
              "        <td>30.30</td>\n",
              "        <td>2009</td>\n",
              "    </tr>\n",
              "</table>"
            ],
            "text/plain": [
              "[('Wii Sports for Wii', 'Wii', 'Nintendo', 'Nintendo EAD', Decimal('82.90'), 2006),\n",
              " ('Super Mario Bros. for NES', 'NES', 'Nintendo', 'Nintendo EAD', Decimal('40.24'), 1985),\n",
              " ('Counter-Strike: Global Offensive for PC', 'PC', 'Valve', 'Valve Corporation', Decimal('40.00'), 2012),\n",
              " ('Mario Kart Wii for Wii', 'Wii', 'Nintendo', 'Nintendo EAD', Decimal('37.32'), 2008),\n",
              " (\"PLAYERUNKNOWN'S BATTLEGROUNDS for PC\", 'PC', 'PUBG Corporation', 'PUBG Corporation', Decimal('36.60'), 2017),\n",
              " ('Minecraft for PC', 'PC', 'Mojang', 'Mojang AB', Decimal('33.15'), 2010),\n",
              " ('Wii Sports Resort for Wii', 'Wii', 'Nintendo', 'Nintendo EAD', Decimal('33.13'), 2009),\n",
              " ('Pokemon Red / Green / Blue Version for GB', 'GB', 'Nintendo', 'Game Freak', Decimal('31.38'), 1998),\n",
              " ('New Super Mario Bros. for DS', 'DS', 'Nintendo', 'Nintendo EAD', Decimal('30.80'), 2006),\n",
              " ('New Super Mario Bros. Wii for Wii', 'Wii', 'Nintendo', 'Nintendo EAD', Decimal('30.30'), 2009)]"
            ]
          },
          "execution_count": 21,
          "metadata": {},
          "output_type": "execute_result"
        }
      ],
      "source": [
        "%%sql\n",
        "postgresql:///games\n",
        "--Top selling Video Games of all Time\n",
        "SELECT * FROM game_sales\n",
        "ORDER BY games_sold DESC\n",
        "LIMIT 10;"
      ]
    },
    {
      "cell_type": "code",
      "execution_count": null,
      "metadata": {
        "dc": {
          "key": "7"
        },
        "id": "i9VaE3UM3e_t",
        "outputId": "9bf18939-2057-4db4-bf28-4c89a51d2225"
      },
      "outputs": [
        {
          "name": "stdout",
          "output_type": "stream",
          "text": [
            " * postgresql:///games\n",
            "1 rows affected.\n"
          ]
        },
        {
          "data": {
            "text/html": [
              "<table>\n",
              "    <tr>\n",
              "        <th>count</th>\n",
              "    </tr>\n",
              "    <tr>\n",
              "        <td>400</td>\n",
              "    </tr>\n",
              "</table>"
            ],
            "text/plain": [
              "[(400,)]"
            ]
          },
          "execution_count": 22,
          "metadata": {},
          "output_type": "execute_result"
        }
      ],
      "source": [
        "%%sql\n",
        "--Total number of video games\n",
        "SELECT COUNT(* ) FROM game_sales;"
      ]
    },
    {
      "cell_type": "markdown",
      "metadata": {
        "dc": {
          "key": "14"
        },
        "deletable": false,
        "editable": false,
        "run_control": {
          "frozen": true
        },
        "tags": [
          "context"
        ],
        "id": "TfvG8Xos3e_t"
      },
      "source": [
        "## 2. Missing review scores\n",
        "<p>Wow, the best-selling video games were released between 1985 to 2017! That's quite a range; we'll have to use data from the <code>reviews</code> table to gain more insight on the best years for video games. </p>\n",
        "<p>First, it's important to explore the limitations of our database. One big shortcoming is that there is not any <code>reviews</code> data for some of the games on the <code>game_sales</code> table. </p>"
      ]
    },
    {
      "cell_type": "code",
      "execution_count": null,
      "metadata": {
        "dc": {
          "key": "14"
        },
        "tags": [
          "sample_code"
        ],
        "id": "56W_WXuV3e_u",
        "outputId": "7e058ff9-1784-4104-c2fa-f548ea0e9c58"
      },
      "outputs": [
        {
          "name": "stdout",
          "output_type": "stream",
          "text": [
            " * postgresql:///games\n",
            "31 rows affected.\n"
          ]
        },
        {
          "data": {
            "text/html": [
              "<table>\n",
              "    <tr>\n",
              "        <th>game</th>\n",
              "        <th>platform</th>\n",
              "        <th>publisher</th>\n",
              "        <th>developer</th>\n",
              "        <th>games_sold</th>\n",
              "        <th>year</th>\n",
              "        <th>game_1</th>\n",
              "        <th>critic_score</th>\n",
              "        <th>user_score</th>\n",
              "    </tr>\n",
              "    <tr>\n",
              "        <td>7 Days to Die for PC</td>\n",
              "        <td>PC</td>\n",
              "        <td>The Fun Pimps</td>\n",
              "        <td>The Fun Pimps</td>\n",
              "        <td>4.18</td>\n",
              "        <td>2013</td>\n",
              "        <td>None</td>\n",
              "        <td>None</td>\n",
              "        <td>None</td>\n",
              "    </tr>\n",
              "    <tr>\n",
              "        <td>Arma 2: Operation Arrowhead for PC</td>\n",
              "        <td>PC</td>\n",
              "        <td>Meridian4</td>\n",
              "        <td>Bohemia Interactive</td>\n",
              "        <td>4.51</td>\n",
              "        <td>2010</td>\n",
              "        <td>None</td>\n",
              "        <td>None</td>\n",
              "        <td>None</td>\n",
              "    </tr>\n",
              "    <tr>\n",
              "        <td>Arma III for PC</td>\n",
              "        <td>PC</td>\n",
              "        <td>Bohemia Interactive</td>\n",
              "        <td>Bohemia Interactive</td>\n",
              "        <td>4.00</td>\n",
              "        <td>2013</td>\n",
              "        <td>None</td>\n",
              "        <td>None</td>\n",
              "        <td>None</td>\n",
              "    </tr>\n",
              "    <tr>\n",
              "        <td>Assassin&#x27;s Creed: Unity for PS4</td>\n",
              "        <td>PS4</td>\n",
              "        <td>Ubisoft</td>\n",
              "        <td>Ubisoft Montreal</td>\n",
              "        <td>4.14</td>\n",
              "        <td>2014</td>\n",
              "        <td>None</td>\n",
              "        <td>None</td>\n",
              "        <td>None</td>\n",
              "    </tr>\n",
              "    <tr>\n",
              "        <td>Call of Duty: Black Ops 3 for XOne</td>\n",
              "        <td>XOne</td>\n",
              "        <td>Activision</td>\n",
              "        <td>Treyarch</td>\n",
              "        <td>7.37</td>\n",
              "        <td>2015</td>\n",
              "        <td>None</td>\n",
              "        <td>None</td>\n",
              "        <td>None</td>\n",
              "    </tr>\n",
              "    <tr>\n",
              "        <td>Call of Duty: Black Ops IIII for XOne</td>\n",
              "        <td>XOne</td>\n",
              "        <td>Activision</td>\n",
              "        <td>Treyarch</td>\n",
              "        <td>4.85</td>\n",
              "        <td>2018</td>\n",
              "        <td>None</td>\n",
              "        <td>None</td>\n",
              "        <td>None</td>\n",
              "    </tr>\n",
              "    <tr>\n",
              "        <td>Disney&#x27;s Aladdin for GEN</td>\n",
              "        <td>GEN</td>\n",
              "        <td>Sega</td>\n",
              "        <td>Virgin Interactive</td>\n",
              "        <td>4.00</td>\n",
              "        <td>1993</td>\n",
              "        <td>None</td>\n",
              "        <td>None</td>\n",
              "        <td>None</td>\n",
              "    </tr>\n",
              "    <tr>\n",
              "        <td>Dr. Mario for GB</td>\n",
              "        <td>GB</td>\n",
              "        <td>Nintendo</td>\n",
              "        <td>Nintendo R&amp;D1</td>\n",
              "        <td>5.34</td>\n",
              "        <td>1990</td>\n",
              "        <td>None</td>\n",
              "        <td>None</td>\n",
              "        <td>None</td>\n",
              "    </tr>\n",
              "    <tr>\n",
              "        <td>Dr. Mario for NES</td>\n",
              "        <td>NES</td>\n",
              "        <td>Nintendo</td>\n",
              "        <td>Nintendo R&amp;D1</td>\n",
              "        <td>4.85</td>\n",
              "        <td>1990</td>\n",
              "        <td>None</td>\n",
              "        <td>None</td>\n",
              "        <td>None</td>\n",
              "    </tr>\n",
              "    <tr>\n",
              "        <td>FIFA 13 for PS3</td>\n",
              "        <td>PS3</td>\n",
              "        <td>EA Sports</td>\n",
              "        <td>EA Canada</td>\n",
              "        <td>8.01</td>\n",
              "        <td>2012</td>\n",
              "        <td>None</td>\n",
              "        <td>None</td>\n",
              "        <td>None</td>\n",
              "    </tr>\n",
              "    <tr>\n",
              "        <td>FIFA 13 for X360</td>\n",
              "        <td>X360</td>\n",
              "        <td>EA Sports</td>\n",
              "        <td>EA Canada</td>\n",
              "        <td>5.11</td>\n",
              "        <td>2012</td>\n",
              "        <td>None</td>\n",
              "        <td>None</td>\n",
              "        <td>None</td>\n",
              "    </tr>\n",
              "    <tr>\n",
              "        <td>Garry&#x27;s Mod for PC</td>\n",
              "        <td>PC</td>\n",
              "        <td>Valve</td>\n",
              "        <td>Facepunch Studios</td>\n",
              "        <td>16.90</td>\n",
              "        <td>2006</td>\n",
              "        <td>None</td>\n",
              "        <td>None</td>\n",
              "        <td>None</td>\n",
              "    </tr>\n",
              "    <tr>\n",
              "        <td>Golf for NES</td>\n",
              "        <td>NES</td>\n",
              "        <td>Nintendo</td>\n",
              "        <td>Nintendo</td>\n",
              "        <td>4.01</td>\n",
              "        <td>1985</td>\n",
              "        <td>None</td>\n",
              "        <td>None</td>\n",
              "        <td>None</td>\n",
              "    </tr>\n",
              "    <tr>\n",
              "        <td>Gran Turismo 6 for PS3</td>\n",
              "        <td>PS3</td>\n",
              "        <td>Sony Computer Entertainment America</td>\n",
              "        <td>Polyphony Digital</td>\n",
              "        <td>5.22</td>\n",
              "        <td>2013</td>\n",
              "        <td>None</td>\n",
              "        <td>None</td>\n",
              "        <td>None</td>\n",
              "    </tr>\n",
              "    <tr>\n",
              "        <td>Just Dance 4 for Wii</td>\n",
              "        <td>Wii</td>\n",
              "        <td>Ubisoft</td>\n",
              "        <td>Ubisoft</td>\n",
              "        <td>6.89</td>\n",
              "        <td>2012</td>\n",
              "        <td>None</td>\n",
              "        <td>None</td>\n",
              "        <td>None</td>\n",
              "    </tr>\n",
              "    <tr>\n",
              "        <td>Kirby&#x27;s Dream Land for GB</td>\n",
              "        <td>GB</td>\n",
              "        <td>Nintendo</td>\n",
              "        <td>HAL Laboratory</td>\n",
              "        <td>5.13</td>\n",
              "        <td>1992</td>\n",
              "        <td>None</td>\n",
              "        <td>None</td>\n",
              "        <td>None</td>\n",
              "    </tr>\n",
              "    <tr>\n",
              "        <td>Minecraft for XOne</td>\n",
              "        <td>XOne</td>\n",
              "        <td>Microsoft Studios</td>\n",
              "        <td>Mojang</td>\n",
              "        <td>5.43</td>\n",
              "        <td>2014</td>\n",
              "        <td>None</td>\n",
              "        <td>None</td>\n",
              "        <td>None</td>\n",
              "    </tr>\n",
              "    <tr>\n",
              "        <td>Monster Hunter 4 for 3DS</td>\n",
              "        <td>3DS</td>\n",
              "        <td>Capcom</td>\n",
              "        <td>Capcom</td>\n",
              "        <td>4.10</td>\n",
              "        <td>2013</td>\n",
              "        <td>None</td>\n",
              "        <td>None</td>\n",
              "        <td>None</td>\n",
              "    </tr>\n",
              "    <tr>\n",
              "        <td>Monster Hunter Freedom 3 for PSP</td>\n",
              "        <td>PSP</td>\n",
              "        <td>Capcom</td>\n",
              "        <td>Capcom</td>\n",
              "        <td>4.90</td>\n",
              "        <td>2010</td>\n",
              "        <td>None</td>\n",
              "        <td>None</td>\n",
              "        <td>None</td>\n",
              "    </tr>\n",
              "    <tr>\n",
              "        <td>Namco Museum Vol.3 for PS</td>\n",
              "        <td>PS</td>\n",
              "        <td>Namco</td>\n",
              "        <td>Namco</td>\n",
              "        <td>4.05</td>\n",
              "        <td>1997</td>\n",
              "        <td>None</td>\n",
              "        <td>None</td>\n",
              "        <td>None</td>\n",
              "    </tr>\n",
              "    <tr>\n",
              "        <td>Pitfall! for 2600</td>\n",
              "        <td>2600</td>\n",
              "        <td>Activision</td>\n",
              "        <td>Activision</td>\n",
              "        <td>4.50</td>\n",
              "        <td>1982</td>\n",
              "        <td>None</td>\n",
              "        <td>None</td>\n",
              "        <td>None</td>\n",
              "    </tr>\n",
              "    <tr>\n",
              "        <td>Riven: The Sequel to Myst for PC</td>\n",
              "        <td>PC</td>\n",
              "        <td>Red Orb</td>\n",
              "        <td>Cyan Worlds</td>\n",
              "        <td>4.50</td>\n",
              "        <td>1997</td>\n",
              "        <td>None</td>\n",
              "        <td>None</td>\n",
              "        <td>None</td>\n",
              "    </tr>\n",
              "    <tr>\n",
              "        <td>Sonic the Hedgehog 2 for GEN</td>\n",
              "        <td>GEN</td>\n",
              "        <td>Sega</td>\n",
              "        <td>Sonic Team</td>\n",
              "        <td>6.00</td>\n",
              "        <td>1992</td>\n",
              "        <td>None</td>\n",
              "        <td>None</td>\n",
              "        <td>None</td>\n",
              "    </tr>\n",
              "    <tr>\n",
              "        <td>Star Wars Battlefront II (2017) for PS4</td>\n",
              "        <td>PS4</td>\n",
              "        <td>Electronic Arts</td>\n",
              "        <td>EA DICE</td>\n",
              "        <td>4.53</td>\n",
              "        <td>2017</td>\n",
              "        <td>None</td>\n",
              "        <td>None</td>\n",
              "        <td>None</td>\n",
              "    </tr>\n",
              "    <tr>\n",
              "        <td>Street Fighter II: The World Warrior for SNES</td>\n",
              "        <td>SNES</td>\n",
              "        <td>Capcom</td>\n",
              "        <td>Capcom</td>\n",
              "        <td>6.30</td>\n",
              "        <td>1992</td>\n",
              "        <td>None</td>\n",
              "        <td>None</td>\n",
              "        <td>None</td>\n",
              "    </tr>\n",
              "    <tr>\n",
              "        <td>Super Mario Land for GB</td>\n",
              "        <td>GB</td>\n",
              "        <td>Nintendo</td>\n",
              "        <td>Nintendo R&amp;D1</td>\n",
              "        <td>18.14</td>\n",
              "        <td>1989</td>\n",
              "        <td>None</td>\n",
              "        <td>None</td>\n",
              "        <td>None</td>\n",
              "    </tr>\n",
              "    <tr>\n",
              "        <td>Tetris for NES</td>\n",
              "        <td>NES</td>\n",
              "        <td>Nintendo</td>\n",
              "        <td>Nintendo</td>\n",
              "        <td>5.58</td>\n",
              "        <td>1989</td>\n",
              "        <td>None</td>\n",
              "        <td>None</td>\n",
              "        <td>None</td>\n",
              "    </tr>\n",
              "    <tr>\n",
              "        <td>The Legend of Zelda: Oracle of Ages / Seasons for GBC</td>\n",
              "        <td>GBC</td>\n",
              "        <td>Nintendo</td>\n",
              "        <td>Capcom</td>\n",
              "        <td>3.99</td>\n",
              "        <td>2001</td>\n",
              "        <td>None</td>\n",
              "        <td>None</td>\n",
              "        <td>None</td>\n",
              "    </tr>\n",
              "    <tr>\n",
              "        <td>Tom Clancy&#x27;s Rainbow Six: Siege for PS4</td>\n",
              "        <td>PS4</td>\n",
              "        <td>Ubisoft</td>\n",
              "        <td>Ubisoft Montreal</td>\n",
              "        <td>4.36</td>\n",
              "        <td>2015</td>\n",
              "        <td>None</td>\n",
              "        <td>None</td>\n",
              "        <td>None</td>\n",
              "    </tr>\n",
              "    <tr>\n",
              "        <td>Yokai Watch 2: Bony Spirits / Fleshy Souls / Psychic Specters for 3DS</td>\n",
              "        <td>3DS</td>\n",
              "        <td>Nintendo</td>\n",
              "        <td>Level 5</td>\n",
              "        <td>7.29</td>\n",
              "        <td>2016</td>\n",
              "        <td>None</td>\n",
              "        <td>None</td>\n",
              "        <td>None</td>\n",
              "    </tr>\n",
              "    <tr>\n",
              "        <td>Zelda II: The Adventure of Link for NES</td>\n",
              "        <td>NES</td>\n",
              "        <td>Nintendo</td>\n",
              "        <td>Nintendo EAD</td>\n",
              "        <td>4.38</td>\n",
              "        <td>1988</td>\n",
              "        <td>None</td>\n",
              "        <td>None</td>\n",
              "        <td>None</td>\n",
              "    </tr>\n",
              "</table>"
            ],
            "text/plain": [
              "[('7 Days to Die for PC', 'PC', 'The Fun Pimps', 'The Fun Pimps', Decimal('4.18'), 2013, None, None, None),\n",
              " ('Arma 2: Operation Arrowhead for PC', 'PC', 'Meridian4', 'Bohemia Interactive', Decimal('4.51'), 2010, None, None, None),\n",
              " ('Arma III for PC', 'PC', 'Bohemia Interactive', 'Bohemia Interactive', Decimal('4.00'), 2013, None, None, None),\n",
              " (\"Assassin's Creed: Unity for PS4\", 'PS4', 'Ubisoft', 'Ubisoft Montreal', Decimal('4.14'), 2014, None, None, None),\n",
              " ('Call of Duty: Black Ops 3 for XOne', 'XOne', 'Activision', 'Treyarch', Decimal('7.37'), 2015, None, None, None),\n",
              " ('Call of Duty: Black Ops IIII for XOne', 'XOne', 'Activision', 'Treyarch', Decimal('4.85'), 2018, None, None, None),\n",
              " (\"Disney's Aladdin for GEN\", 'GEN', 'Sega', 'Virgin Interactive', Decimal('4.00'), 1993, None, None, None),\n",
              " ('Dr. Mario for GB', 'GB', 'Nintendo', 'Nintendo R&D1', Decimal('5.34'), 1990, None, None, None),\n",
              " ('Dr. Mario for NES', 'NES', 'Nintendo', 'Nintendo R&D1', Decimal('4.85'), 1990, None, None, None),\n",
              " ('FIFA 13 for PS3', 'PS3', 'EA Sports', 'EA Canada', Decimal('8.01'), 2012, None, None, None),\n",
              " ('FIFA 13 for X360', 'X360', 'EA Sports', 'EA Canada', Decimal('5.11'), 2012, None, None, None),\n",
              " (\"Garry's Mod for PC\", 'PC', 'Valve', 'Facepunch Studios', Decimal('16.90'), 2006, None, None, None),\n",
              " ('Golf for NES', 'NES', 'Nintendo', 'Nintendo', Decimal('4.01'), 1985, None, None, None),\n",
              " ('Gran Turismo 6 for PS3', 'PS3', 'Sony Computer Entertainment America', 'Polyphony Digital', Decimal('5.22'), 2013, None, None, None),\n",
              " ('Just Dance 4 for Wii', 'Wii', 'Ubisoft', 'Ubisoft', Decimal('6.89'), 2012, None, None, None),\n",
              " (\"Kirby's Dream Land for GB\", 'GB', 'Nintendo', 'HAL Laboratory', Decimal('5.13'), 1992, None, None, None),\n",
              " ('Minecraft for XOne', 'XOne', 'Microsoft Studios', 'Mojang', Decimal('5.43'), 2014, None, None, None),\n",
              " ('Monster Hunter 4 for 3DS', '3DS', 'Capcom', 'Capcom', Decimal('4.10'), 2013, None, None, None),\n",
              " ('Monster Hunter Freedom 3 for PSP', 'PSP', 'Capcom', 'Capcom', Decimal('4.90'), 2010, None, None, None),\n",
              " ('Namco Museum Vol.3 for PS', 'PS', 'Namco', 'Namco', Decimal('4.05'), 1997, None, None, None),\n",
              " ('Pitfall! for 2600', '2600', 'Activision', 'Activision', Decimal('4.50'), 1982, None, None, None),\n",
              " ('Riven: The Sequel to Myst for PC', 'PC', 'Red Orb', 'Cyan Worlds', Decimal('4.50'), 1997, None, None, None),\n",
              " ('Sonic the Hedgehog 2 for GEN', 'GEN', 'Sega', 'Sonic Team', Decimal('6.00'), 1992, None, None, None),\n",
              " ('Star Wars Battlefront II (2017) for PS4', 'PS4', 'Electronic Arts', 'EA DICE', Decimal('4.53'), 2017, None, None, None),\n",
              " ('Street Fighter II: The World Warrior for SNES', 'SNES', 'Capcom', 'Capcom', Decimal('6.30'), 1992, None, None, None),\n",
              " ('Super Mario Land for GB', 'GB', 'Nintendo', 'Nintendo R&D1', Decimal('18.14'), 1989, None, None, None),\n",
              " ('Tetris for NES', 'NES', 'Nintendo', 'Nintendo', Decimal('5.58'), 1989, None, None, None),\n",
              " ('The Legend of Zelda: Oracle of Ages / Seasons for GBC', 'GBC', 'Nintendo', 'Capcom', Decimal('3.99'), 2001, None, None, None),\n",
              " (\"Tom Clancy's Rainbow Six: Siege for PS4\", 'PS4', 'Ubisoft', 'Ubisoft Montreal', Decimal('4.36'), 2015, None, None, None),\n",
              " ('Yokai Watch 2: Bony Spirits / Fleshy Souls / Psychic Specters for 3DS', '3DS', 'Nintendo', 'Level 5', Decimal('7.29'), 2016, None, None, None),\n",
              " ('Zelda II: The Adventure of Link for NES', 'NES', 'Nintendo', 'Nintendo EAD', Decimal('4.38'), 1988, None, None, None)]"
            ]
          },
          "execution_count": 24,
          "metadata": {},
          "output_type": "execute_result"
        }
      ],
      "source": [
        "%%sql\n",
        "\n",
        "--Video games with no reviews\n",
        "SELECT * FROM game_sales  g\n",
        "LEFT JOIN reviews r\n",
        "ON g.game = r.game\n",
        "WHERE critic_score IS NULL AND user_score IS NULL;"
      ]
    },
    {
      "cell_type": "markdown",
      "metadata": {
        "dc": {
          "key": "21"
        },
        "deletable": false,
        "editable": false,
        "run_control": {
          "frozen": true
        },
        "tags": [
          "context"
        ],
        "id": "369DjLv93e_u"
      },
      "source": [
        "## 3. Years that video game critics loved\n",
        "<p>It looks like a little less than ten percent of the games on the <code>game_sales</code> table don't have any reviews data. That's a small enough percentage that we can continue our exploration, but the missing reviews data is a good thing to keep in mind as we move on to evaluating results from more sophisticated queries. </p>\n",
        "<p>There are lots of ways to measure the best years for video games! Let's start with what the critics think. </p>"
      ]
    },
    {
      "cell_type": "code",
      "execution_count": null,
      "metadata": {
        "dc": {
          "key": "21"
        },
        "tags": [
          "sample_code"
        ],
        "id": "uZaEWZmD3e_v",
        "outputId": "2dcd10ac-af32-4921-a26e-df8f8e004fbe"
      },
      "outputs": [
        {
          "name": "stdout",
          "output_type": "stream",
          "text": [
            " * postgresql:///games\n",
            "10 rows affected.\n"
          ]
        },
        {
          "data": {
            "text/html": [
              "<table>\n",
              "    <tr>\n",
              "        <th>year</th>\n",
              "        <th>avg_critic_score</th>\n",
              "    </tr>\n",
              "    <tr>\n",
              "        <td>1990</td>\n",
              "        <td>9.80</td>\n",
              "    </tr>\n",
              "    <tr>\n",
              "        <td>1992</td>\n",
              "        <td>9.67</td>\n",
              "    </tr>\n",
              "    <tr>\n",
              "        <td>1998</td>\n",
              "        <td>9.32</td>\n",
              "    </tr>\n",
              "    <tr>\n",
              "        <td>2020</td>\n",
              "        <td>9.20</td>\n",
              "    </tr>\n",
              "    <tr>\n",
              "        <td>1993</td>\n",
              "        <td>9.10</td>\n",
              "    </tr>\n",
              "    <tr>\n",
              "        <td>1995</td>\n",
              "        <td>9.07</td>\n",
              "    </tr>\n",
              "    <tr>\n",
              "        <td>2004</td>\n",
              "        <td>9.03</td>\n",
              "    </tr>\n",
              "    <tr>\n",
              "        <td>1982</td>\n",
              "        <td>9.00</td>\n",
              "    </tr>\n",
              "    <tr>\n",
              "        <td>2002</td>\n",
              "        <td>8.99</td>\n",
              "    </tr>\n",
              "    <tr>\n",
              "        <td>1999</td>\n",
              "        <td>8.93</td>\n",
              "    </tr>\n",
              "</table>"
            ],
            "text/plain": [
              "[(1990, Decimal('9.80')),\n",
              " (1992, Decimal('9.67')),\n",
              " (1998, Decimal('9.32')),\n",
              " (2020, Decimal('9.20')),\n",
              " (1993, Decimal('9.10')),\n",
              " (1995, Decimal('9.07')),\n",
              " (2004, Decimal('9.03')),\n",
              " (1982, Decimal('9.00')),\n",
              " (2002, Decimal('8.99')),\n",
              " (1999, Decimal('8.93'))]"
            ]
          },
          "execution_count": 26,
          "metadata": {},
          "output_type": "execute_result"
        }
      ],
      "source": [
        "%%sql\n",
        "\n",
        "-- Year with highest Average Critics Rating\n",
        "WITH CTE AS (SELECT * FROM game_sales  g\n",
        "INNER JOIN reviews r\n",
        "ON g.game = r.game)\n",
        "SELECT year , ROUND(AVG(critic_score),2) as avg_critic_score\n",
        "FROM CTE\n",
        "GROUP BY year\n",
        "ORDER BY avg_critic_score DESC\n",
        "LIMIT 10;"
      ]
    },
    {
      "cell_type": "markdown",
      "metadata": {
        "dc": {
          "key": "28"
        },
        "deletable": false,
        "editable": false,
        "run_control": {
          "frozen": true
        },
        "tags": [
          "context"
        ],
        "id": "jZM2fC1V3e_w"
      },
      "source": [
        "## 4. Was 1982 really that great?\n",
        "<p>The range of great years according to critic reviews goes from 1982 until 2020:  </p>\n",
        "<p> Maybe there weren't a lot of video games in our dataset that were released in certain years. </p>\n",
        "<p>Let's update our query and find out whether 1982 really was such a great year for video games.</p>"
      ]
    },
    {
      "cell_type": "code",
      "execution_count": null,
      "metadata": {
        "dc": {
          "key": "28"
        },
        "scrolled": true,
        "tags": [
          "sample_code"
        ],
        "id": "zJs62a-I3e_w",
        "outputId": "2c74508e-f1f7-4d0e-b7be-93235f7fba05"
      },
      "outputs": [
        {
          "name": "stdout",
          "output_type": "stream",
          "text": [
            " * postgresql:///games\n",
            "10 rows affected.\n"
          ]
        },
        {
          "data": {
            "text/html": [
              "<table>\n",
              "    <tr>\n",
              "        <th>year</th>\n",
              "        <th>num_games</th>\n",
              "        <th>avg_critic_score</th>\n",
              "    </tr>\n",
              "    <tr>\n",
              "        <td>1998</td>\n",
              "        <td>10</td>\n",
              "        <td>9.32</td>\n",
              "    </tr>\n",
              "    <tr>\n",
              "        <td>2004</td>\n",
              "        <td>11</td>\n",
              "        <td>9.03</td>\n",
              "    </tr>\n",
              "    <tr>\n",
              "        <td>2002</td>\n",
              "        <td>9</td>\n",
              "        <td>8.99</td>\n",
              "    </tr>\n",
              "    <tr>\n",
              "        <td>1999</td>\n",
              "        <td>11</td>\n",
              "        <td>8.93</td>\n",
              "    </tr>\n",
              "    <tr>\n",
              "        <td>2001</td>\n",
              "        <td>13</td>\n",
              "        <td>8.82</td>\n",
              "    </tr>\n",
              "    <tr>\n",
              "        <td>2011</td>\n",
              "        <td>26</td>\n",
              "        <td>8.76</td>\n",
              "    </tr>\n",
              "    <tr>\n",
              "        <td>2016</td>\n",
              "        <td>13</td>\n",
              "        <td>8.67</td>\n",
              "    </tr>\n",
              "    <tr>\n",
              "        <td>2013</td>\n",
              "        <td>18</td>\n",
              "        <td>8.66</td>\n",
              "    </tr>\n",
              "    <tr>\n",
              "        <td>2008</td>\n",
              "        <td>20</td>\n",
              "        <td>8.63</td>\n",
              "    </tr>\n",
              "    <tr>\n",
              "        <td>2017</td>\n",
              "        <td>13</td>\n",
              "        <td>8.62</td>\n",
              "    </tr>\n",
              "</table>"
            ],
            "text/plain": [
              "[(1998, 10, Decimal('9.32')),\n",
              " (2004, 11, Decimal('9.03')),\n",
              " (2002, 9, Decimal('8.99')),\n",
              " (1999, 11, Decimal('8.93')),\n",
              " (2001, 13, Decimal('8.82')),\n",
              " (2011, 26, Decimal('8.76')),\n",
              " (2016, 13, Decimal('8.67')),\n",
              " (2013, 18, Decimal('8.66')),\n",
              " (2008, 20, Decimal('8.63')),\n",
              " (2017, 13, Decimal('8.62'))]"
            ]
          },
          "execution_count": 28,
          "metadata": {},
          "output_type": "execute_result"
        }
      ],
      "source": [
        "%%sql\n",
        "\n",
        "-- Update the query to see the number of Video Games released in each Year\n",
        "WITH CTE AS (SELECT g.game, g.games_sold, g.year,r.critic_score, r.user_score FROM game_sales  g\n",
        "INNER JOIN reviews r\n",
        "ON g.game = r.game)\n",
        "SELECT year ,COUNT(game) as num_games, ROUND(AVG(critic_score),2) as avg_critic_score\n",
        "FROM CTE\n",
        "GROUP BY year\n",
        "HAVING COUNT(game) > 4\n",
        "ORDER BY avg_critic_score DESC\n",
        "LIMIT 10;"
      ]
    },
    {
      "cell_type": "markdown",
      "metadata": {
        "dc": {
          "key": "35"
        },
        "deletable": false,
        "editable": false,
        "run_control": {
          "frozen": true
        },
        "tags": [
          "context"
        ],
        "id": "U54FWKCQ3e_x"
      },
      "source": [
        "## 5. Years that dropped off the critics' favorites list\n",
        "<p>That looks better! The <code>num_games</code> column convinces us that our new list of the critics' top games reflects years that had quite a few well-reviewed games rather than just one or two hits. But which years dropped off the list due to having four or fewer reviewed games? Let's identify them so that someday we can track down more game reviews for those years and determine whether they might rightfully be considered as excellent years for video game releases!</p> We are creating two TEMPORARY TABLE TO STORE OUR RESULTS OF PREVIOUS QUERIES\n",
        "\n",
        "</p>\n",
        "<h3 id=\"top_critic_years\"><code>top_critic_years</code></h3>\n",
        "<table>\n",
        "<thead>\n",
        "<tr>\n",
        "<th style=\"text-align:left;\">column</th>\n",
        "<th>type</th>\n",
        "<th>meaning</th>\n",
        "</tr>\n",
        "</thead>\n",
        "<tbody>\n",
        "<tr>\n",
        "<td style=\"text-align:left;\"><code>year</code></td>\n",
        "<td>int</td>\n",
        "<td>Year of video game release</td>\n",
        "</tr>\n",
        "<tr>\n",
        "<td style=\"text-align:left;\"><code>avg_critic_score</code></td>\n",
        "<td>float</td>\n",
        "<td>Average of all critic scores for games released in that year</td>\n",
        "</tr>\n",
        "</tbody>\n",
        "</table>\n",
        "<h3 id=\"top_critic_years_more_than_four_games\"><code>top_critic_years_more_than_four_games</code></h3>\n",
        "<table>\n",
        "<thead>\n",
        "<tr>\n",
        "<th style=\"text-align:left;\">column</th>\n",
        "<th>type</th>\n",
        "<th>meaning</th>\n",
        "</tr>\n",
        "</thead>\n",
        "<tbody>\n",
        "<tr>\n",
        "<td style=\"text-align:left;\"><code>year</code></td>\n",
        "<td>int</td>\n",
        "<td>Year of video game release</td>\n",
        "</tr>\n",
        "<tr>\n",
        "<td style=\"text-align:left;\"><code>num_games</code></td>\n",
        "<td>int</td>\n",
        "<td>Count of the number of video games released in that year</td>\n",
        "</tr>\n",
        "<tr>\n",
        "<td style=\"text-align:left;\"><code>avg_critic_score</code></td>\n",
        "<td>float</td>\n",
        "<td>Average of all critic scores for games released in that year</td>\n",
        "</tr>\n",
        "</tbody>\n",
        "</table>"
      ]
    },
    {
      "cell_type": "code",
      "execution_count": null,
      "metadata": {
        "dc": {
          "key": "35"
        },
        "id": "ynej5m_g3e_x",
        "outputId": "630677d6-2d95-4e7d-d7a4-2c035c6f40f6"
      },
      "outputs": [
        {
          "name": "stdout",
          "output_type": "stream",
          "text": [
            "(psycopg2.errors.DuplicateTable) relation \"top_critic_years\" already exists\n",
            "\n",
            "[SQL: CREATE TEMP TABLE top_critic_years AS\n",
            "\n",
            "SELECT * FROM (WITH CTE AS (SELECT * FROM game_sales  g\n",
            "INNER JOIN reviews r\n",
            "ON g.game = r.game)\n",
            "SELECT year , ROUND(AVG(critic_score),2) as avg_critic_score\n",
            "FROM CTE\n",
            "GROUP BY year\n",
            "ORDER BY avg_critic_score DESC\n",
            "LIMIT 10) AS F]\n",
            "(Background on this error at: https://sqlalche.me/e/14/f405)\n"
          ]
        }
      ],
      "source": [
        "%%sql\n",
        "postgresql:///games\n",
        "\n",
        "CREATE TEMP TABLE top_critic_years AS\n",
        "\n",
        "SELECT * FROM (WITH CTE AS (SELECT * FROM game_sales  g\n",
        "INNER JOIN reviews r\n",
        "ON g.game = r.game)\n",
        "SELECT year , ROUND(AVG(critic_score),2) as avg_critic_score\n",
        "FROM CTE\n",
        "GROUP BY year\n",
        "ORDER BY avg_critic_score DESC\n",
        "LIMIT 10) AS F"
      ]
    },
    {
      "cell_type": "code",
      "execution_count": null,
      "metadata": {
        "dc": {
          "key": "35"
        },
        "id": "3z0z3bl93e_y",
        "outputId": "bf699e0c-73d4-4cb4-fc3b-45b604b8aa54"
      },
      "outputs": [
        {
          "name": "stdout",
          "output_type": "stream",
          "text": [
            "(psycopg2.errors.DuplicateTable) relation \"top_critic_years_more_than_four_games\" already exists\n",
            "\n",
            "[SQL: CREATE TEMP TABLE top_critic_years_more_than_FOUR_games AS\n",
            "\n",
            "SELECT * FROM (\n",
            "WITH CTE AS (SELECT g.game, g.games_sold, g.year,r.critic_score, r.user_score FROM game_sales  g\n",
            "INNER JOIN reviews r\n",
            "ON g.game = r.game)\n",
            "SELECT year ,COUNT(game) as num_games, ROUND(AVG(critic_score),2) as avg_critic_score\n",
            "FROM CTE\n",
            "GROUP BY year\n",
            "HAVING COUNT(game) > 4\n",
            "ORDER BY avg_critic_score DESC\n",
            "LIMIT 10) AS T]\n",
            "(Background on this error at: https://sqlalche.me/e/14/f405)\n"
          ]
        }
      ],
      "source": [
        "%%sql\n",
        "postgresql:///games\n",
        "\n",
        "CREATE TEMP TABLE top_critic_years_more_than_FOUR_games AS\n",
        "\n",
        "SELECT * FROM (\n",
        "WITH CTE AS (SELECT g.game, g.games_sold, g.year,r.critic_score, r.user_score FROM game_sales  g\n",
        "INNER JOIN reviews r\n",
        "ON g.game = r.game)\n",
        "SELECT year ,COUNT(game) as num_games, ROUND(AVG(critic_score),2) as avg_critic_score\n",
        "FROM CTE\n",
        "GROUP BY year\n",
        "HAVING COUNT(game) > 4\n",
        "ORDER BY avg_critic_score DESC\n",
        "LIMIT 10) AS T"
      ]
    },
    {
      "cell_type": "code",
      "execution_count": null,
      "metadata": {
        "dc": {
          "key": "35"
        },
        "tags": [
          "sample_code"
        ],
        "id": "eWjAOCCJ3e_y",
        "outputId": "c0653f89-165a-4bf3-9db7-b448314358b9"
      },
      "outputs": [
        {
          "name": "stdout",
          "output_type": "stream",
          "text": [
            " * postgresql:///games\n",
            "6 rows affected.\n"
          ]
        },
        {
          "data": {
            "text/html": [
              "<table>\n",
              "    <tr>\n",
              "        <th>year</th>\n",
              "        <th>avg_critic_score</th>\n",
              "    </tr>\n",
              "    <tr>\n",
              "        <td>1990</td>\n",
              "        <td>9.80</td>\n",
              "    </tr>\n",
              "    <tr>\n",
              "        <td>1992</td>\n",
              "        <td>9.67</td>\n",
              "    </tr>\n",
              "    <tr>\n",
              "        <td>2020</td>\n",
              "        <td>9.20</td>\n",
              "    </tr>\n",
              "    <tr>\n",
              "        <td>1993</td>\n",
              "        <td>9.10</td>\n",
              "    </tr>\n",
              "    <tr>\n",
              "        <td>1995</td>\n",
              "        <td>9.07</td>\n",
              "    </tr>\n",
              "    <tr>\n",
              "        <td>1982</td>\n",
              "        <td>9.00</td>\n",
              "    </tr>\n",
              "</table>"
            ],
            "text/plain": [
              "[(1990, Decimal('9.80')),\n",
              " (1992, Decimal('9.67')),\n",
              " (2020, Decimal('9.20')),\n",
              " (1993, Decimal('9.10')),\n",
              " (1995, Decimal('9.07')),\n",
              " (1982, Decimal('9.00'))]"
            ]
          },
          "execution_count": 32,
          "metadata": {},
          "output_type": "execute_result"
        }
      ],
      "source": [
        "%%sql\n",
        "\n",
        "-- We will select the year which has number of video games more than 4 and and years in Top 10 high critic score\n",
        "SELECT year, avg_critic_score\n",
        "FROM top_critic_years\n",
        "EXCEPT\n",
        "SELECT year, avg_critic_score\n",
        "FROM top_critic_years_more_than_FOUR_games\n",
        "ORDER BY avg_critic_score DESC;"
      ]
    },
    {
      "cell_type": "markdown",
      "metadata": {
        "dc": {
          "key": "42"
        },
        "deletable": false,
        "editable": false,
        "run_control": {
          "frozen": true
        },
        "tags": [
          "context"
        ],
        "id": "cU1SmxiG3e_y"
      },
      "source": [
        "## 6. Years video game players loved\n",
        "<p>Based on our work in the task above, it looks like the early 1990s might merit consideration as the golden age of video games based on <code>critic_score</code> alone, but we'd need to gather more games and reviews data to do further analysis. </p>\n",
        "<p>Let's move on to looking at the opinions of another important group of people: players! To begin, let's create a query very similar to the one we used in Task Four, except this one will look at <code>user_score</code> averages by year rather than <code>critic_score</code> averages.</p>"
      ]
    },
    {
      "cell_type": "code",
      "execution_count": null,
      "metadata": {
        "dc": {
          "key": "42"
        },
        "tags": [
          "sample_code"
        ],
        "id": "S8Z8FoJL3e_z",
        "outputId": "24aafc41-c0f3-4d75-982f-6b667bfce3e4"
      },
      "outputs": [
        {
          "name": "stdout",
          "output_type": "stream",
          "text": [
            " * postgresql:///games\n",
            "10 rows affected.\n"
          ]
        },
        {
          "data": {
            "text/html": [
              "<table>\n",
              "    <tr>\n",
              "        <th>year</th>\n",
              "        <th>num_games</th>\n",
              "        <th>avg_user_score</th>\n",
              "    </tr>\n",
              "    <tr>\n",
              "        <td>1997</td>\n",
              "        <td>8</td>\n",
              "        <td>9.50</td>\n",
              "    </tr>\n",
              "    <tr>\n",
              "        <td>1998</td>\n",
              "        <td>10</td>\n",
              "        <td>9.40</td>\n",
              "    </tr>\n",
              "    <tr>\n",
              "        <td>2010</td>\n",
              "        <td>23</td>\n",
              "        <td>9.24</td>\n",
              "    </tr>\n",
              "    <tr>\n",
              "        <td>2009</td>\n",
              "        <td>20</td>\n",
              "        <td>9.18</td>\n",
              "    </tr>\n",
              "    <tr>\n",
              "        <td>2008</td>\n",
              "        <td>20</td>\n",
              "        <td>9.03</td>\n",
              "    </tr>\n",
              "    <tr>\n",
              "        <td>1996</td>\n",
              "        <td>5</td>\n",
              "        <td>9.00</td>\n",
              "    </tr>\n",
              "    <tr>\n",
              "        <td>2005</td>\n",
              "        <td>13</td>\n",
              "        <td>8.95</td>\n",
              "    </tr>\n",
              "    <tr>\n",
              "        <td>2006</td>\n",
              "        <td>16</td>\n",
              "        <td>8.95</td>\n",
              "    </tr>\n",
              "    <tr>\n",
              "        <td>2000</td>\n",
              "        <td>8</td>\n",
              "        <td>8.80</td>\n",
              "    </tr>\n",
              "    <tr>\n",
              "        <td>2002</td>\n",
              "        <td>9</td>\n",
              "        <td>8.80</td>\n",
              "    </tr>\n",
              "</table>"
            ],
            "text/plain": [
              "[(1997, 8, Decimal('9.50')),\n",
              " (1998, 10, Decimal('9.40')),\n",
              " (2010, 23, Decimal('9.24')),\n",
              " (2009, 20, Decimal('9.18')),\n",
              " (2008, 20, Decimal('9.03')),\n",
              " (1996, 5, Decimal('9.00')),\n",
              " (2005, 13, Decimal('8.95')),\n",
              " (2006, 16, Decimal('8.95')),\n",
              " (2000, 8, Decimal('8.80')),\n",
              " (2002, 9, Decimal('8.80'))]"
            ]
          },
          "execution_count": 34,
          "metadata": {},
          "output_type": "execute_result"
        }
      ],
      "source": [
        "%%sql\n",
        "\n",
        "-- SELECTING THE YEARS WITH HIGH USER SCORE\n",
        "WITH CTE AS (SELECT g.game, g.games_sold, g.year,r.critic_score, r.user_score FROM game_sales  g\n",
        "INNER JOIN reviews r\n",
        "ON g.game = r.game)\n",
        "SELECT year ,COUNT(game) as num_games, ROUND(AVG(user_score),2) as avg_user_score\n",
        "FROM CTE\n",
        "GROUP BY year\n",
        "HAVING COUNT(game) > 4\n",
        "ORDER BY AVG_user_score DESC\n",
        "LIMIT 10;"
      ]
    },
    {
      "cell_type": "code",
      "execution_count": null,
      "metadata": {
        "dc": {
          "key": "42"
        },
        "id": "wbwh7u_B3e_z",
        "outputId": "d55ccec6-853a-445d-9563-3c63582d4f33"
      },
      "outputs": [
        {
          "name": "stdout",
          "output_type": "stream",
          "text": [
            "(psycopg2.errors.DuplicateTable) relation \"top_user_years_more_than_four_games\" already exists\n",
            "\n",
            "[SQL: CREATE TEMP TABLE top_user_years_more_than_FOUR_games AS\n",
            "SELECT * FROM (\n",
            "WITH CTE AS (SELECT g.game, g.games_sold, g.year,r.critic_score, r.user_score FROM game_sales  g\n",
            "INNER JOIN reviews r\n",
            "ON g.game = r.game)\n",
            "SELECT year ,COUNT(game) as num_games, ROUND(AVG(user_score),2) as avg_user_score\n",
            "FROM CTE\n",
            "GROUP BY year\n",
            "HAVING COUNT(game) > 4\n",
            "ORDER BY AVG_user_score DESC\n",
            "LIMIT 10) AS U]\n",
            "(Background on this error at: https://sqlalche.me/e/14/f405)\n"
          ]
        }
      ],
      "source": [
        "%%sql\n",
        "postgresql:///games\n",
        "\n",
        "CREATE TEMP TABLE top_user_years_more_than_FOUR_games AS\n",
        "SELECT * FROM (\n",
        "WITH CTE AS (SELECT g.game, g.games_sold, g.year,r.critic_score, r.user_score FROM game_sales  g\n",
        "INNER JOIN reviews r\n",
        "ON g.game = r.game)\n",
        "SELECT year ,COUNT(game) as num_games, ROUND(AVG(user_score),2) as avg_user_score\n",
        "FROM CTE\n",
        "GROUP BY year\n",
        "HAVING COUNT(game) > 4\n",
        "ORDER BY AVG_user_score DESC\n",
        "LIMIT 10) AS U\n"
      ]
    },
    {
      "cell_type": "markdown",
      "metadata": {
        "dc": {
          "key": "49"
        },
        "deletable": false,
        "editable": false,
        "run_control": {
          "frozen": true
        },
        "tags": [
          "context"
        ],
        "id": "y9R8DbCi3e_0"
      },
      "source": [
        "## 7. Years that both players and critics loved\n",
        "<p>Alright, we've got a list of the top ten years according to both critic reviews and user reviews. Are there any years that showed up on both tables? If so, those years would certainly be excellent ones!</p>\n",
        "<p>\n",
        ":</p>\n",
        "<h3 id=\"top_critic_years_more_than_four_games\"><code>top_critic_years_more_than_four_games</code></h3>\n",
        "<table>\n",
        "<thead>\n",
        "<tr>\n",
        "<th style=\"text-align:left;\">column</th>\n",
        "<th>type</th>\n",
        "<th>meaning</th>\n",
        "</tr>\n",
        "</thead>\n",
        "<tbody>\n",
        "<tr>\n",
        "<td style=\"text-align:left;\"><code>year</code></td>\n",
        "<td>int</td>\n",
        "<td>Year of video game release</td>\n",
        "</tr>\n",
        "<tr>\n",
        "<td style=\"text-align:left;\"><code>num_games</code></td>\n",
        "<td>int</td>\n",
        "<td>Count of the number of video games released in that year</td>\n",
        "</tr>\n",
        "<tr>\n",
        "<td style=\"text-align:left;\"><code>avg_critic_score</code></td>\n",
        "<td>float</td>\n",
        "<td>Average of all critic scores for games released in that year</td>\n",
        "</tr>\n",
        "</tbody>\n",
        "</table>\n",
        "<p>We've also saved the results of our top user years query from the previous task into a table:</p>\n",
        "<h3 id=\"top_user_years_more_than_four_games\"><code>top_user_years_more_than_four_games</code></h3>\n",
        "<table>\n",
        "<thead>\n",
        "<tr>\n",
        "<th style=\"text-align:left;\">column</th>\n",
        "<th>type</th>\n",
        "<th>meaning</th>\n",
        "</tr>\n",
        "</thead>\n",
        "<tbody>\n",
        "<tr>\n",
        "<td style=\"text-align:left;\"><code>year</code></td>\n",
        "<td>int</td>\n",
        "<td>Year of video game release</td>\n",
        "</tr>\n",
        "<tr>\n",
        "<td style=\"text-align:left;\"><code>num_games</code></td>\n",
        "<td>int</td>\n",
        "<td>Count of the number of video games released in that year</td>\n",
        "</tr>\n",
        "<tr>\n",
        "<td style=\"text-align:left;\"><code>avg_user_score</code></td>\n",
        "<td>float</td>\n",
        "<td>Average of all user scores for games released in that year</td>\n",
        "</tr>\n",
        "</tbody>\n",
        "</table>"
      ]
    },
    {
      "cell_type": "code",
      "execution_count": null,
      "metadata": {
        "dc": {
          "key": "49"
        },
        "tags": [
          "sample_code"
        ],
        "id": "_7yBbT_h3e_0",
        "outputId": "4ae93563-09ae-4a05-de24-6649767ca792"
      },
      "outputs": [
        {
          "name": "stdout",
          "output_type": "stream",
          "text": [
            " * postgresql:///games\n",
            "3 rows affected.\n"
          ]
        },
        {
          "data": {
            "text/html": [
              "<table>\n",
              "    <tr>\n",
              "        <th>year</th>\n",
              "    </tr>\n",
              "    <tr>\n",
              "        <td>2008</td>\n",
              "    </tr>\n",
              "    <tr>\n",
              "        <td>2002</td>\n",
              "    </tr>\n",
              "    <tr>\n",
              "        <td>1998</td>\n",
              "    </tr>\n",
              "</table>"
            ],
            "text/plain": [
              "[(2008,), (2002,), (1998,)]"
            ]
          },
          "execution_count": 37,
          "metadata": {},
          "output_type": "execute_result"
        }
      ],
      "source": [
        "%%sql\n",
        "\n",
        "-- Select the year results that appear on both tables\n",
        "SELECT year FROM top_critic_years_more_than_FOUR_games\n",
        "INTERSECT\n",
        "SELECT year FROM top_user_years_more_than_FOUR_games"
      ]
    },
    {
      "cell_type": "markdown",
      "metadata": {
        "dc": {
          "key": "56"
        },
        "deletable": false,
        "editable": false,
        "run_control": {
          "frozen": true
        },
        "tags": [
          "context"
        ],
        "id": "kb11SK6M3e_0"
      },
      "source": [
        "## 8. Sales in the best video game years\n",
        "<p>Looks like we've got three years that both users and critics agreed were in the top ten! </p>\n",
        "We will see the number of games_sold in those 3 years"
      ]
    },
    {
      "cell_type": "code",
      "execution_count": null,
      "metadata": {
        "dc": {
          "key": "56"
        },
        "tags": [
          "sample_code"
        ],
        "id": "dVl9Owc33e_0",
        "outputId": "41a7af11-3b2f-42ec-e8ec-85680cd6d629"
      },
      "outputs": [
        {
          "name": "stdout",
          "output_type": "stream",
          "text": [
            "3 rows affected.\n"
          ]
        },
        {
          "data": {
            "text/html": [
              "<table>\n",
              "    <tr>\n",
              "        <th>year</th>\n",
              "        <th>total_games_sold</th>\n",
              "    </tr>\n",
              "    <tr>\n",
              "        <td>2008</td>\n",
              "        <td>175.07</td>\n",
              "    </tr>\n",
              "    <tr>\n",
              "        <td>1998</td>\n",
              "        <td>101.52</td>\n",
              "    </tr>\n",
              "    <tr>\n",
              "        <td>2002</td>\n",
              "        <td>58.67</td>\n",
              "    </tr>\n",
              "</table>"
            ],
            "text/plain": [
              "[(2008, Decimal('175.07')),\n",
              " (1998, Decimal('101.52')),\n",
              " (2002, Decimal('58.67'))]"
            ]
          },
          "execution_count": 39,
          "metadata": {},
          "output_type": "execute_result"
        }
      ],
      "source": [
        "%%sql\n",
        "postgresql:///games\n",
        "\n",
        "SELECT year, sum(games_sold) as total_games_sold FROM game_sales\n",
        "WHERE year IN (SELECT year FROM top_critic_years_more_than_FOUR_games\n",
        "INTERSECT\n",
        "SELECT year FROM top_user_years_more_than_FOUR_games)\n",
        "GROUP BY year\n",
        "ORDER BY total_games_sold DESC"
      ]
    }
  ],
  "metadata": {
    "kernelspec": {
      "display_name": "Python 3 (ipykernel)",
      "language": "python",
      "name": "python3"
    },
    "language_info": {
      "codemirror_mode": {
        "name": "ipython",
        "version": 3
      },
      "file_extension": ".py",
      "mimetype": "text/x-python",
      "name": "python",
      "nbconvert_exporter": "python",
      "pygments_lexer": "ipython3",
      "version": "3.9.7"
    },
    "colab": {
      "provenance": []
    }
  },
  "nbformat": 4,
  "nbformat_minor": 0
}